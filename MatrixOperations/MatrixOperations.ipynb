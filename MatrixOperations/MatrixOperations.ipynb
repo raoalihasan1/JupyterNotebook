{
 "cells": [
  {
   "attachments": {},
   "cell_type": "markdown",
   "metadata": {},
   "source": [
    "### Exercise 1 (Easy)\n",
    "\n",
    "Input a 4 by 4 magic square matrix \n",
    "$$\\textbf{A}=\n",
    "\\left[\n",
    "\\begin{array}{cccc}\n",
    "        16   &   3 &  2 & 13 \\\\\n",
    "        5    &  10 & 11 &  8 \\\\\n",
    "        9    &   6 &  7 & 12 \\\\\n",
    "        4    &  15 & 14 &  1 \\\\\n",
    "\\end{array}\n",
    "\\right]. \n",
    "$$  \n",
    "\n",
    "Generate a 4 by 4 matrix $\\textbf{B}$ with random integer entries. Set $\\textbf{C}$ to be a 4 by 4 matrix with 1's on the diagonal and 0's elsewhere. Check to see that, $\\textbf{A}$, $\\textbf{B}$ and $\\textbf{C}$ are all present. Compute the sum of the third column of $\\textbf{A}$."
   ]
  },
  {
   "cell_type": "code",
   "execution_count": 284,
   "metadata": {},
   "outputs": [
    {
     "name": "stdout",
     "output_type": "stream",
     "text": [
      "Matrix A:\n",
      " [[16  3  2 13]\n",
      " [ 5 10 11  8]\n",
      " [ 9  6  7 12]\n",
      " [ 4 15 14  1]]\n",
      "\n",
      "Matrix B:\n",
      " [[ 7  0 71 11]\n",
      " [15 92 72 10]\n",
      " [63 63 44 84]\n",
      " [ 4 75  3 15]]\n",
      "\n",
      "Matrix C:\n",
      " [[1. 0. 0. 0.]\n",
      " [0. 1. 0. 0.]\n",
      " [0. 0. 1. 0.]\n",
      " [0. 0. 0. 1.]]\n",
      "\n",
      "Sum Of Column 3 Of Matrix A: 34\n"
     ]
    }
   ],
   "source": [
    "A = np.array([[16, 3, 2, 13], [5, 10, 11, 8], [9, 6, 7, 12], [4, 15, 14, 1]])\n",
    "\n",
    "B = np.random.randint(0, 100, size=[4,4])\n",
    "\n",
    "C = np.eye(4)\n",
    "\n",
    "matrix_a_column_three_sum = np.sum(A, axis=0)[3]\n",
    "\n",
    "print(f\"Matrix A:\\n {A}\\n\")\n",
    "print(f\"Matrix B:\\n {B}\\n\")\n",
    "print(f\"Matrix C:\\n {C}\\n\")\n",
    "print(f\"Sum Of Column 3 Of Matrix A: {matrix_a_column_three_sum}\")"
   ]
  },
  {
   "attachments": {},
   "cell_type": "markdown",
   "metadata": {},
   "source": [
    "### Exercise 2 (Easy)\n",
    "\n",
    "Generate a 4 by 2 matrix consisting of the 1st and 3rd columns of $\\textbf{B}$ using the colon operator."
   ]
  },
  {
   "cell_type": "code",
   "execution_count": 285,
   "metadata": {},
   "outputs": [
    {
     "name": "stdout",
     "output_type": "stream",
     "text": [
      "New 4x2 Matrix Created From Column 1 And 3 Of Matrix B:\n",
      " [[ 7 71]\n",
      " [15 72]\n",
      " [63 44]\n",
      " [ 4  3]]\n"
     ]
    }
   ],
   "source": [
    "NEW_B_USING_COLUMNS = np.hstack((B[:, 0].reshape(-1, 1), B[:, 2].reshape(-1, 1)))\n",
    "\n",
    "print(\n",
    "    f\"New 4x2 Matrix Created From Column 1 And 3 Of Matrix B:\\n {NEW_B_USING_COLUMNS}\")\n"
   ]
  },
  {
   "attachments": {},
   "cell_type": "markdown",
   "metadata": {},
   "source": [
    "### Exercise 3 (Easy)\n",
    "\n",
    "Generate a 4 by 2 matrix containing two different columns that are randomly selected from the columns of $\\textbf{B}$. Generate a 3 by 4 matrix containing three different rows that are randomly selected from the rows of $\\textbf{B}$. "
   ]
  },
  {
   "cell_type": "code",
   "execution_count": 286,
   "metadata": {},
   "outputs": [
    {
     "name": "stdout",
     "output_type": "stream",
     "text": [
      "New 4x2 Matrix Created From Random Columns In Matrix B:\n",
      " [[11 71]\n",
      " [10 72]\n",
      " [84 44]\n",
      " [15  3]]\n",
      "New 3x4 Matrix Created From Random Rows In Matrix B:\n",
      " [[15 92 72 10]\n",
      " [ 7  0 71 11]\n",
      " [15 92 72 10]]\n"
     ]
    }
   ],
   "source": [
    "NEW__RANDOM_B_USING_COLUMNS = np.hstack((B[:, np.random.randint(\n",
    "    0, B.size / len(B))].reshape(-1, 1), B[:, np.random.randint(\n",
    "        0, B.size / len(B))].reshape(-1, 1)))\n",
    "\n",
    "NEW__RANDOM_B_USING_ROWS = np.array([B[np.random.randint(\n",
    "    0, B.size / len(B)), :], B[np.random.randint(\n",
    "        0, B.size / len(B)), :], B[np.random.randint(\n",
    "            0, B.size / len(B)), :]])\n",
    "\n",
    "print(f\"New 4x2 Matrix Created From Random Columns In Matrix B:\\n {NEW__RANDOM_B_USING_COLUMNS}\")\n",
    "print(f\"New 3x4 Matrix Created From Random Rows In Matrix B:\\n {NEW__RANDOM_B_USING_ROWS}\")"
   ]
  },
  {
   "attachments": {},
   "cell_type": "markdown",
   "metadata": {},
   "source": [
    "### Exercise 4 (Easy)\n",
    "\n",
    "The matrix $\\textbf{A}$ is a magic square, in which the sum of each row, each column, and each diagonal is the same. First check whether $\\textbf{A}$ satisfies this  magic square condition. Then sort the 2nd row of $\\textbf{A}$ and print this sorted row using appropriate commands."
   ]
  },
  {
   "cell_type": "code",
   "execution_count": 287,
   "metadata": {},
   "outputs": [
    {
     "name": "stdout",
     "output_type": "stream",
     "text": [
      "Matrix A Satisfies The Magic Square Condition\n",
      "Second Row Of Matrix A In Sorted Order Is:\n",
      " [ 5  8 10 11]\n"
     ]
    }
   ],
   "source": [
    "init_row_sum = np.sum(A[0,:])\n",
    "is_magic_square = True\n",
    "\n",
    "for x in range(1, len(A)):\n",
    "    if(np.sum(A[x,:]) != init_row_sum and np.sum(A[:,x]) != init_row_sum):\n",
    "        is_magic_square = not is_magic_square\n",
    "        break\n",
    "\n",
    "if(is_magic_square and np.sum(np.diagonal(A)) == init_row_sum and np.sum(np.diagonal(np.fliplr(A))) == init_row_sum):\n",
    "    print(\"Matrix A Satisfies The Magic Square Condition\")\n",
    "else:\n",
    "    print(\"Matrix A Does Not Satisfies The Magic Square Condition\")\n",
    "\n",
    "SECOND_ROW_A_SORTED = np.array(sorted(np.array(A[1, :])))\n",
    "\n",
    "print(f\"Second Row Of Matrix A In Sorted Order Is:\\n {SECOND_ROW_A_SORTED}\") "
   ]
  },
  {
   "attachments": {},
   "cell_type": "markdown",
   "metadata": {},
   "source": [
    "### Exercise 5 (Easy)\n",
    "\n",
    "Set $\\textbf{B}$ as an identity matrix, multiplication of $\\textbf{A}$ by $\\textbf{B}$ should yield $\\textbf{A}$. Check this."
   ]
  },
  {
   "cell_type": "code",
   "execution_count": 288,
   "metadata": {},
   "outputs": [
    {
     "name": "stdout",
     "output_type": "stream",
     "text": [
      "The Identity Matrix B Multiplied With Matrix A:\n",
      " [[16.  3.  2. 13.]\n",
      " [ 5. 10. 11.  8.]\n",
      " [ 9.  6.  7. 12.]\n",
      " [ 4. 15. 14.  1.]]\n",
      " IDENTITY_B x A == A\n"
     ]
    }
   ],
   "source": [
    "IDENTITY_MATRIX_B = np.eye(4)\n",
    "IDENTITY_MATRIX_B_TIMES_A = A @ IDENTITY_MATRIX_B\n",
    "\n",
    "print(f\"The Identity Matrix B Multiplied With Matrix A:\\n {IDENTITY_MATRIX_B_TIMES_A}\")\n",
    "print(\" IDENTITY_B x A == A\" if IDENTITY_MATRIX_B_TIMES_A.all()\n",
    "      == A.all() else \" IDENTITY_B x A /= A\")"
   ]
  },
  {
   "attachments": {},
   "cell_type": "markdown",
   "metadata": {},
   "source": [
    "### Exercise 6 (Easy)\n",
    "\n",
    "Count the number of values of $\\textbf{A}$ which are greater than 10 using logical operators."
   ]
  },
  {
   "cell_type": "code",
   "execution_count": 289,
   "metadata": {},
   "outputs": [
    {
     "name": "stdout",
     "output_type": "stream",
     "text": [
      "6 Values In Matrix A Are Greater Than 10\n"
     ]
    }
   ],
   "source": [
    "GREATER_THAN = 10\n",
    "\n",
    "print(f\"{np.count_nonzero(A > GREATER_THAN)} Values In Matrix A Are Greater Than {GREATER_THAN}\")\n"
   ]
  },
  {
   "attachments": {},
   "cell_type": "markdown",
   "metadata": {},
   "source": [
    "### Exercise 7 (Easy)\n",
    "\n",
    "The reciprocal of a number $x$ is  $1/x$. Use `for` loops to  create  a new matrix $\\textbf{B}$, where each element in $\\textbf{B}$ is the reciprocal of the corresponding element in $\\textbf{A}$."
   ]
  },
  {
   "cell_type": "code",
   "execution_count": 290,
   "metadata": {},
   "outputs": [
    {
     "name": "stdout",
     "output_type": "stream",
     "text": [
      "[[0 0 0 0]\n",
      " [0 0 0 0]\n",
      " [0 0 0 0]\n",
      " [0 0 0 1]]\n"
     ]
    }
   ],
   "source": [
    "B_RECIPROCAL_OF_A = A\n",
    "SUM_OF_COLUMNS_OF_B_RECIPROCAL_OF_A = 0\n",
    "\n",
    "for i in range(len(B_RECIPROCAL_OF_A)):\n",
    "    for j in range(len(B_RECIPROCAL_OF_A[i])):\n",
    "        B_RECIPROCAL_OF_A[i, j] = np.reciprocal(B_RECIPROCAL_OF_A[i, j])\n",
    "        \n",
    "print(B_RECIPROCAL_OF_A)"
   ]
  },
  {
   "attachments": {},
   "cell_type": "markdown",
   "metadata": {},
   "source": [
    "### Exercise 8 (Easy)\n",
    "\n",
    "Plot the log and square root of the integers from $1$ to $100$ in one single figure. Provide axis names, legend and title for the figure."
   ]
  },
  {
   "cell_type": "code",
   "execution_count": 291,
   "metadata": {},
   "outputs": [
    {
     "data": {
      "image/png": "[encoded data removed]",
      "text/plain": [
       "<Figure size 640x480 with 1 Axes>"
      ]
     },
     "metadata": {},
     "output_type": "display_data"
    }
   ],
   "source": [
    "plt.plot(np.log(np.arange(1, 101)), label=\"log(x)\", color=\"r\", linewidth=2.5)\n",
    "plt.plot(np.sqrt(np.arange(1, 101)), label=\"sqrt(x)\",\n",
    "         color=\"#1AB26B\", linewidth=2.5)\n",
    "plt.legend()\n",
    "plt.title(\"Logarithmic And Square Root Functions Graph\")\n",
    "plt.xlabel(\"Input X\")\n",
    "plt.ylabel(\"Output Y\")\n",
    "plt.tight_layout()"
   ]
  },
  {
   "attachments": {},
   "cell_type": "markdown",
   "metadata": {},
   "source": [
    "### Exercise 9 (Normal)\n",
    "\n",
    "Let $\\boldsymbol{y} $ be an $N$-dimensional column vector with $y_i$ denoting its $i$-th element. \n",
    "Let $\\textbf{X}$ be an $N$ by $D$ matrix and $\\boldsymbol{x}_{i}$ be a column vector which is the transpose of the $i$-th row of $\\textbf{X}$.\n",
    "Let $\\boldsymbol{w}$ be a $D$-dimensional column vector. \n",
    "Choose a value for $N$ and a value for $D$ as you like, generate $\\boldsymbol{y}$, $\\textbf{X}$ and $\\boldsymbol{w}$ containing random elements, and solve the values of $\\boldsymbol{g}_1 $ and $\\boldsymbol{g}_2$.\n",
    "$$ \\boldsymbol{g}_1 = \\textbf{X}^T\\textbf{X} \\boldsymbol{w}-\\textbf{X}^T \\boldsymbol{y}$$\n",
    "$$ \\boldsymbol{g}_2 = \\sum_{i=1}^N \\left(\\boldsymbol{x}_{i}^T \\boldsymbol{w}- y_i\\right) \\boldsymbol{x}_{i}$$"
   ]
  },
  {
   "cell_type": "code",
   "execution_count": 292,
   "metadata": {},
   "outputs": [
    {
     "name": "stdout",
     "output_type": "stream",
     "text": [
      "Matrix W:\n",
      " [[20]\n",
      " [93]\n",
      " [28]]\n",
      "Matrix X:\n",
      " [[ 5 96 63]\n",
      " [61 99 31]\n",
      " [10 35 18]\n",
      " [64 28 50]]\n",
      "Matrix Y:\n",
      " [[35]\n",
      " [26]\n",
      " [36]\n",
      " [30]]\n",
      "\n",
      "G_1:\n",
      " [[1116680]\n",
      " [2432720]\n",
      " [1360344]]\n",
      "G_2:\n",
      " [ 780424 2285608 1097644]\n"
     ]
    }
   ],
   "source": [
    "N = 4\n",
    "D = 3\n",
    "\n",
    "W = np.random.randint(0, 100, size=[D, 1])\n",
    "X = np.random.randint(0, 100, size=[N,D])\n",
    "Y = np.random.randint(0, 100, size=[N, 1])\n",
    "\n",
    "print(f\"Matrix W:\\n {W}\")\n",
    "print(f\"Matrix X:\\n {X}\")\n",
    "print(f\"Matrix Y:\\n {Y}\")\n",
    "\n",
    "X_TRANSPOSE = X.transpose()\n",
    "\n",
    "G_1 = X_TRANSPOSE @ X @ W - X_TRANSPOSE @ Y\n",
    "G_2 = 0\n",
    "\n",
    "\n",
    "for i in range(len(X_TRANSPOSE)):\n",
    "    tmp = (X[i,:].transpose() @ W - Y[i]) \n",
    "    x_i = X[i,:]\n",
    "    x_i.shape = (1, D)\n",
    "    G_2 += tmp @ x_i\n",
    "\n",
    "print(f\"\\nG_1:\\n {G_1}\")\n",
    "print(f\"G_2:\\n {G_2}\")\n"
   ]
  },
  {
   "attachments": {},
   "cell_type": "markdown",
   "metadata": {},
   "source": [
    "### Exercise 10 (Normal)\n",
    "\n",
    "Calculate the derivative of function $f(x) = x^2+3x+1$ at 10 randomly chosen values of $x$. Write a user-defined function for calculating an approximated derivative of an input function based on \n",
    "\n",
    "$$\\frac{d f(x)}{d x}=\\frac{f(x+\\Delta x)-f(x)}{\\Delta x} ~ .$$\n",
    "\n",
    "Use this function to calculate the approximated derivative for $f(x) = x^2+3x+1$ at the same 10 chosen values of $x$ for $\\Delta x = 1$, $\\Delta x = 0.1$ and $\\Delta x = 0.001$. Plot your derivatives. Provide axis names, legend and title for the figure. Explain which $\\Delta x$ gives you a better approximation and analyse how the choice of $\\Delta x$ affects the approximation in the report."
   ]
  },
  {
   "cell_type": "code",
   "execution_count": 293,
   "metadata": {},
   "outputs": [
    {
     "name": "stdout",
     "output_type": "stream",
     "text": [
      "df(x)/d(x) at x = 10 and h = 1 is 24.0\n",
      "df(x)/d(x) at x = 10 and h = 0.1 is 23.100000000000023\n",
      "df(x)/d(x) at x = 10 and h = 0.001 is 23.00099999999361\n",
      "\n",
      "Using a smaller value of h gives a better approximation because as lim h->0, f'(x) comes closer\n",
      "to its true value so choosing a larger h will give an inaccurate result as opposed to a smaller h\n",
      "\n"
     ]
    },
    {
     "data": {
      "image/png": "[encoded data removed]",
      "text/plain": [
       "<Figure size 640x480 with 1 Axes>"
      ]
     },
     "metadata": {},
     "output_type": "display_data"
    }
   ],
   "source": [
    "def derivative(f, x, h):\n",
    "    return (f(x + h) - f(x)) / h\n",
    "\n",
    "f = lambda x: x**2 + 3*x + 1\n",
    "\n",
    "print(f\"df(x)/d(x) at x = 10 and h = 1 is {derivative(f, 10, 1)}\")\n",
    "print(f\"df(x)/d(x) at x = 10 and h = 0.1 is {derivative(f, 10, 0.1)}\")\n",
    "print(f\"df(x)/d(x) at x = 10 and h = 0.001 is {derivative(f, 10, 0.001)}\")\n",
    "\n",
    "h = 1\n",
    "x = []\n",
    "y = []\n",
    "dfx_dx = np.poly1d([1, 3, 1]).deriv()\n",
    "\n",
    "for i in range(1, 10):\n",
    "    x.append(h)\n",
    "    y.append(derivative(f, 10, h))\n",
    "    h /= 10\n",
    "    \n",
    "\n",
    "plt.plot(x, y, linewidth = 2.5, color='r', label=\"Calculated Using My Derivative Function\")\n",
    "plt.xlabel(\"Value of H\")\n",
    "plt.ylabel(\"df(x) / dx\")\n",
    "plt.title(\"Differentiate x^2 + 3x + 1\")\n",
    "plt.legend()\n",
    "\n",
    "print(\"\\nUsing a smaller value of h gives a better approximation because as lim h->0, f'(x) comes closer\\nto its true value so choosing a larger h will give an inaccurate result as opposed to a smaller h\\n\")\n"
   ]
  },
  {
   "attachments": {},
   "cell_type": "markdown",
   "metadata": {},
   "source": [
    "### Exercise 11 (Normal)\n",
    "\n",
    "Given two $d$-dimensional data points $\\boldsymbol{x} = [x_1,x_2,\\dots,x_d]$ and $\\boldsymbol{y}=[y_1,y_2,\\dots,y_d]$. The Euclidean distance between these two points is computed as \n",
    "\n",
    "$$\n",
    "d(\\boldsymbol{x},\\boldsymbol{y}) = \\sqrt{\\sum_{i=1}^d (x_i-y_i)^2} = \\sqrt{\\boldsymbol{x}\\boldsymbol{x}^T - 2\\boldsymbol{x}\\boldsymbol{y}^T+\\boldsymbol{y}\\boldsymbol{y}^T}.\n",
    "$$\n",
    "\n",
    "Generate $5$ random $3$-dimensional points and store them in a $5\\times 3$ matrix called $\\textbf{A}$ ($5$ rows and $3$ columns). Generate another $8$ random $3$-dimensional points and store them in a $8\\times 3$ matrix called $\\textbf{B}$ ($8$ rows and $3$ columns). Calculate the Euclidean distance between the $5$ and $8$ points, and store these distances in a $5\\times 8$ matrix called $\\textbf{D}$ using `for` loops ($5$ rows and $8$ colums)."
   ]
  },
  {
   "cell_type": "code",
   "execution_count": 294,
   "metadata": {},
   "outputs": [
    {
     "name": "stdout",
     "output_type": "stream",
     "text": [
      "Matrix A:\n",
      "[[58 11 50]\n",
      " [87 37 12]\n",
      " [43 63 18]\n",
      " [58 52 43]\n",
      " [62 24 59]]\n",
      "\n",
      "Matrix B:\n",
      "[[38 59  9]\n",
      " [48 14 55]\n",
      " [47 18 72]\n",
      " [61 12 99]\n",
      " [56  9 16]\n",
      " [85 68 65]\n",
      " [40 68 64]\n",
      " [83 40 64]]\n",
      "\n",
      "Matrix D:\n",
      "[[20. 48. 41.  0.  0.  0.  0.  0.]\n",
      " [39. 23. 43.  0.  0.  0.  0.  0.]\n",
      " [ 4. 45. 54.  0.  0.  0.  0.  0.]\n",
      " [ 3. 40. 56.  0.  0.  0.  0.  0.]\n",
      " [ 6. 15. 43.  0.  0.  0.  0.  0.]]\n",
      "\n",
      "Euclidean Distance Between A And B Is 141.7603611733548\n"
     ]
    }
   ],
   "source": [
    "A = np.random.randint(0,100,size=[5,3])\n",
    "B = np.random.randint(0,100,size=[8,3])\n",
    "D = np.zeros((5,8))\n",
    "\n",
    "print(f\"Matrix A:\\n{A}\\n\")\n",
    "print(f\"Matrix B:\\n{B}\\n\")\n",
    "\n",
    "euclidean_distance = 0\n",
    "\n",
    "\n",
    "if A.shape[0] != B.shape[0] or A.shape[1] != B.shape[1]:\n",
    "    rows = max(A.shape[0], B.shape[0])\n",
    "    cols = max(A.shape[1], B.shape[1])\n",
    "    A = np.pad(A, ((0, rows - A.shape[0]),\n",
    "                   (0, cols - A.shape[1])), 'constant')\n",
    "    B = np.pad(B, ((0, rows - B.shape[0]),\n",
    "                   (0, cols - B.shape[1])), 'constant')\n",
    "\n",
    "for x in range(5):\n",
    "    for y in range(len(A[x])):\n",
    "        euclidean_distance += np.abs(A[x, y] - B[x, y])**2\n",
    "        D[x, y] = (np.abs(A[x, y] - B[x, y])**2)**(1/2)\n",
    "\n",
    "print(f\"Matrix D:\\n{D}\\n\")\n",
    "print(f\"Euclidean Distance Between A And B Is {euclidean_distance ** (1/2)}\")\n"
   ]
  }
 ],
 "metadata": {
  "kernelspec": {
   "display_name": "Python 3",
   "language": "python",
   "name": "python3"
  },
  "language_info": {
   "codemirror_mode": {
    "name": "ipython",
    "version": 3
   },
   "file_extension": ".py",
   "mimetype": "text/x-python",
   "name": "python",
   "nbconvert_exporter": "python",
   "pygments_lexer": "ipython3",
   "version": "3.10.6"
  },
  "vscode": {
   "interpreter": {
    "hash": "916dbcbb3f70747c44a77c7bcd40155683ae19c65e1c03b4aa3499c5328201f1"
   }
  }
 },
 "nbformat": 4,
 "nbformat_minor": 2
}
