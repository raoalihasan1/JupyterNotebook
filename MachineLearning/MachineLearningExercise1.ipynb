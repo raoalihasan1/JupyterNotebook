{
 "cells": [
  {
   "cell_type": "markdown",
   "id": "4400fc0a",
   "metadata": {},
   "source": [
    "# Machine Learning Exercise 1"
   ]
  },
  {
   "cell_type": "markdown",
   "id": "7f9ae3fb",
   "metadata": {},
   "source": [
    "### Step 1\n",
    "Start By Importing The Libraries Required For The Exercise And Read In The CSV Salary File Into The DataFrame. Then, Look At The Structure Of The DataFrame To Get A Better Understanding Of The Data."
   ]
  },
  {
   "cell_type": "code",
   "execution_count": 371,
   "id": "368c9821",
   "metadata": {},
   "outputs": [],
   "source": [
    "import pandas as pd, numpy as np, matplotlib.pyplot as plt\n",
    "from sklearn.linear_model import LinearRegression\n",
    "from sklearn.model_selection import train_test_split\n",
    "from sklearn.metrics import r2_score"
   ]
  },
  {
   "cell_type": "code",
   "execution_count": 372,
   "id": "a94ea60c",
   "metadata": {},
   "outputs": [
    {
     "data": {
      "text/html": [
       "<div>\n",
       "<style scoped>\n",
       "    .dataframe tbody tr th:only-of-type {\n",
       "        vertical-align: middle;\n",
       "    }\n",
       "\n",
       "    .dataframe tbody tr th {\n",
       "        vertical-align: top;\n",
       "    }\n",
       "\n",
       "    .dataframe thead th {\n",
       "        text-align: right;\n",
       "    }\n",
       "</style>\n",
       "<table border=\"1\" class=\"dataframe\">\n",
       "  <thead>\n",
       "    <tr style=\"text-align: right;\">\n",
       "      <th></th>\n",
       "      <th>YearsExperience</th>\n",
       "      <th>Salary</th>\n",
       "    </tr>\n",
       "  </thead>\n",
       "  <tbody>\n",
       "    <tr>\n",
       "      <th>0</th>\n",
       "      <td>1.1</td>\n",
       "      <td>39343.0</td>\n",
       "    </tr>\n",
       "    <tr>\n",
       "      <th>1</th>\n",
       "      <td>1.3</td>\n",
       "      <td>46205.0</td>\n",
       "    </tr>\n",
       "    <tr>\n",
       "      <th>2</th>\n",
       "      <td>1.5</td>\n",
       "      <td>37731.0</td>\n",
       "    </tr>\n",
       "    <tr>\n",
       "      <th>3</th>\n",
       "      <td>2.0</td>\n",
       "      <td>43525.0</td>\n",
       "    </tr>\n",
       "    <tr>\n",
       "      <th>4</th>\n",
       "      <td>2.2</td>\n",
       "      <td>39891.0</td>\n",
       "    </tr>\n",
       "    <tr>\n",
       "      <th>5</th>\n",
       "      <td>2.9</td>\n",
       "      <td>56642.0</td>\n",
       "    </tr>\n",
       "    <tr>\n",
       "      <th>6</th>\n",
       "      <td>3.0</td>\n",
       "      <td>60150.0</td>\n",
       "    </tr>\n",
       "    <tr>\n",
       "      <th>7</th>\n",
       "      <td>3.2</td>\n",
       "      <td>54445.0</td>\n",
       "    </tr>\n",
       "    <tr>\n",
       "      <th>8</th>\n",
       "      <td>3.2</td>\n",
       "      <td>64445.0</td>\n",
       "    </tr>\n",
       "    <tr>\n",
       "      <th>9</th>\n",
       "      <td>3.7</td>\n",
       "      <td>57189.0</td>\n",
       "    </tr>\n",
       "  </tbody>\n",
       "</table>\n",
       "</div>"
      ],
      "text/plain": [
       "   YearsExperience   Salary\n",
       "0              1.1  39343.0\n",
       "1              1.3  46205.0\n",
       "2              1.5  37731.0\n",
       "3              2.0  43525.0\n",
       "4              2.2  39891.0\n",
       "5              2.9  56642.0\n",
       "6              3.0  60150.0\n",
       "7              3.2  54445.0\n",
       "8              3.2  64445.0\n",
       "9              3.7  57189.0"
      ]
     },
     "execution_count": 372,
     "metadata": {},
     "output_type": "execute_result"
    }
   ],
   "source": [
    "dfSalary = pd.read_csv('salaryData.csv')\n",
    "dfSalary.head(10)"
   ]
  },
  {
   "cell_type": "code",
   "execution_count": 373,
   "id": "f8210de3",
   "metadata": {},
   "outputs": [
    {
     "data": {
      "text/html": [
       "<div>\n",
       "<style scoped>\n",
       "    .dataframe tbody tr th:only-of-type {\n",
       "        vertical-align: middle;\n",
       "    }\n",
       "\n",
       "    .dataframe tbody tr th {\n",
       "        vertical-align: top;\n",
       "    }\n",
       "\n",
       "    .dataframe thead th {\n",
       "        text-align: right;\n",
       "    }\n",
       "</style>\n",
       "<table border=\"1\" class=\"dataframe\">\n",
       "  <thead>\n",
       "    <tr style=\"text-align: right;\">\n",
       "      <th></th>\n",
       "      <th>YearsExperience</th>\n",
       "      <th>Salary</th>\n",
       "    </tr>\n",
       "  </thead>\n",
       "  <tbody>\n",
       "    <tr>\n",
       "      <th>count</th>\n",
       "      <td>30.000000</td>\n",
       "      <td>30.000000</td>\n",
       "    </tr>\n",
       "    <tr>\n",
       "      <th>mean</th>\n",
       "      <td>5.313333</td>\n",
       "      <td>76003.000000</td>\n",
       "    </tr>\n",
       "    <tr>\n",
       "      <th>std</th>\n",
       "      <td>2.837888</td>\n",
       "      <td>27414.429785</td>\n",
       "    </tr>\n",
       "    <tr>\n",
       "      <th>min</th>\n",
       "      <td>1.100000</td>\n",
       "      <td>37731.000000</td>\n",
       "    </tr>\n",
       "    <tr>\n",
       "      <th>25%</th>\n",
       "      <td>3.200000</td>\n",
       "      <td>56720.750000</td>\n",
       "    </tr>\n",
       "    <tr>\n",
       "      <th>50%</th>\n",
       "      <td>4.700000</td>\n",
       "      <td>65237.000000</td>\n",
       "    </tr>\n",
       "    <tr>\n",
       "      <th>75%</th>\n",
       "      <td>7.700000</td>\n",
       "      <td>100544.750000</td>\n",
       "    </tr>\n",
       "    <tr>\n",
       "      <th>max</th>\n",
       "      <td>10.500000</td>\n",
       "      <td>122391.000000</td>\n",
       "    </tr>\n",
       "  </tbody>\n",
       "</table>\n",
       "</div>"
      ],
      "text/plain": [
       "       YearsExperience         Salary\n",
       "count        30.000000      30.000000\n",
       "mean          5.313333   76003.000000\n",
       "std           2.837888   27414.429785\n",
       "min           1.100000   37731.000000\n",
       "25%           3.200000   56720.750000\n",
       "50%           4.700000   65237.000000\n",
       "75%           7.700000  100544.750000\n",
       "max          10.500000  122391.000000"
      ]
     },
     "execution_count": 373,
     "metadata": {},
     "output_type": "execute_result"
    }
   ],
   "source": [
    "dfSalary.describe()"
   ]
  },
  {
   "cell_type": "markdown",
   "id": "e544a143",
   "metadata": {},
   "source": [
    "### Step 2\n",
    "Next, Perform Data Visualisation To Develop An Understanding Of The Relationship Between The Two Variables In The Dataset"
   ]
  },
  {
   "cell_type": "code",
   "execution_count": 374,
   "id": "f94a61cf",
   "metadata": {},
   "outputs": [
    {
     "data": {
      "image/png": "[encoded data removed]",
      "text/plain": [
       "<Figure size 1008x720 with 1 Axes>"
      ]
     },
     "metadata": {
      "needs_background": "light"
     },
     "output_type": "display_data"
    },
    {
     "name": "stdout",
     "output_type": "stream",
     "text": [
      "The Linear Equation For The Orginal Dataset Is: Predicted Salary = 9449.96 x (Years Of Experience) + 25792.2\n"
     ]
    }
   ],
   "source": [
    "M, C = np.polyfit(dfSalary['YearsExperience'], dfSalary['Salary'], 1)\n",
    "plt.figure(figsize=(14, 10))\n",
    "plt.grid(linestyle = '--', linewidth = 2, alpha=0.5)\n",
    "plt.scatter(dfSalary['YearsExperience'], dfSalary['Salary'], color='r', marker='o')\n",
    "plt.plot(dfSalary['YearsExperience'], M*dfSalary['YearsExperience'] + C, linestyle='--', linewidth=3, color='green')\n",
    "plt.ylabel('Salary In ($) USD')\n",
    "plt.xlabel('Experience In Years')\n",
    "plt.title('Salary Prediction Based On Years Of Experience')\n",
    "plt.rc('font', size=14)\n",
    "plt.show()\n",
    "print(\"The Linear Equation For The Orginal Dataset Is: Predicted Salary = \" + str(round(M, 2)) + \" x (Years Of Experience) + \" + str(round(C, 2)))"
   ]
  },
  {
   "cell_type": "markdown",
   "id": "9ae54757",
   "metadata": {},
   "source": [
    "### Step 3\n",
    "Split The Data Into Seperate DataFrames And Then Split Those DataFrames Further Into Training And Testing Data. Then, Perform The Machine Learning On The Training Data"
   ]
  },
  {
   "cell_type": "code",
   "execution_count": 375,
   "id": "0122b04b",
   "metadata": {},
   "outputs": [],
   "source": [
    "X = dfSalary.drop(columns=['Salary'])\n",
    "Y = dfSalary.drop(columns=['YearsExperience'])\n",
    "trainX, testX, trainY, testY = train_test_split(X, Y, test_size=0.25)\n",
    "trainingModel = LinearRegression()\n",
    "trainingModel.fit(trainX, trainY)\n",
    "predictionResults = trainingModel.predict(testX)\n",
    "newPredictionResults = []\n",
    "for x in predictionResults:\n",
    "    for y in x:\n",
    "        newPredictionResults.append(y)"
   ]
  },
  {
   "cell_type": "markdown",
   "id": "809db670",
   "metadata": {},
   "source": [
    "### Step 4\n",
    "Calculate The Linear Equation Of Your Model Using The In-Built Functions From The Libraries Imported Above. "
   ]
  },
  {
   "cell_type": "code",
   "execution_count": 376,
   "id": "febf5ed3",
   "metadata": {},
   "outputs": [
    {
     "name": "stdout",
     "output_type": "stream",
     "text": [
      "The Linear Equation For This Model Is: Predicted Salary = 9551.96 x (Years Of Experience) + 24947.15\n"
     ]
    }
   ],
   "source": [
    "M = trainingModel.coef_\n",
    "C = trainingModel.intercept_\n",
    "modelGradient = 0\n",
    "modelIntercept = 0\n",
    "for x in M:\n",
    "    for y in x:\n",
    "        modelGradient = round(y, 2)\n",
    "for x in C:\n",
    "    modelIntercept = round(x, 2)\n",
    "print(\"The Linear Equation For This Model Is: Predicted Salary = \" + str(modelGradient) + \" x (Years Of Experience) + \" + str(modelIntercept))"
   ]
  },
  {
   "cell_type": "code",
   "execution_count": 385,
   "id": "13fd7743",
   "metadata": {},
   "outputs": [
    {
     "name": "stdout",
     "output_type": "stream",
     "text": [
      "The Estimated Salary For 7.2 Years Is $93721.26\n",
      "The Estimated Salary For 5.6 Years Is $78438.13\n",
      "The Estimated Salary For 3.9 Years Is $62199.79\n",
      "The Estimated Salary For 5.8 Years Is $80348.52\n",
      "The Estimated Salary For 2.6 Years Is $49782.25\n",
      "The Estimated Salary For 11 Years Is $130018.71\n",
      "The Estimated Salary For 12.5 Years Is $144346.65\n"
     ]
    }
   ],
   "source": [
    "# Create A Function That Returns The Estimated Salary Based On Years of Experience Using The Linear Equation\n",
    "def estimatedSalary(yrsOfExperience):\n",
    "    return round(modelGradient*yrsOfExperience + modelIntercept, 2)\n",
    "\n",
    "# Additional Testing of Model\n",
    "addtionalTests = [7.2, 5.6, 3.9, 5.8, 2.6, 11, 12.5]\n",
    "for x in addtionalTests:\n",
    "    print(\"The Estimated Salary For \" + str(x) + \" Years Is $\" + str(estimatedSalary(x)))"
   ]
  },
  {
   "cell_type": "markdown",
   "id": "98a11d42",
   "metadata": {},
   "source": [
    "### Step 5\n",
    "Finally, Calculate The $R^{2} Score$ Of Your Model Using The In-Built Functions From The Imported Libraries"
   ]
  },
  {
   "cell_type": "code",
   "execution_count": 386,
   "id": "be3dd387",
   "metadata": {},
   "outputs": [
    {
     "name": "stdout",
     "output_type": "stream",
     "text": [
      "This Model Has An R2 Score Of:  0.95\n"
     ]
    }
   ],
   "source": [
    "print(\"This Model Has An R2 Score Of: \", round(r2_score(testY, predictionResults), 2))"
   ]
  },
  {
   "cell_type": "markdown",
   "id": "90e6b966",
   "metadata": {},
   "source": [
    "### Evaluation\n",
    "Document Your Findings And What The $R^{2} Score$ Tells About The Accuracy Of Your Model"
   ]
  },
  {
   "cell_type": "markdown",
   "id": "68575436",
   "metadata": {},
   "source": [
    "Using Machine Learning, I Was Able To Devise A Model That Can Predict The Salary In USD Of An Individual Based On Their Years Of Experience. Since My Model Has An $R^{2} Score$ Of 0.95 Hence Close To 1.0, This Means That This Model Is Able To Predict The Salary Very Well Which Is Also Evident With The Linear Equation From The Original Dataset And After Applying Machine Learning Being Similar."
   ]
  }
 ],
 "metadata": {
  "kernelspec": {
   "display_name": "Python 3 (ipykernel)",
   "language": "python",
   "name": "python3"
  },
  "language_info": {
   "codemirror_mode": {
    "name": "ipython",
    "version": 3
   },
   "file_extension": ".py",
   "mimetype": "text/x-python",
   "name": "python",
   "nbconvert_exporter": "python",
   "pygments_lexer": "ipython3",
   "version": "3.8.10"
  }
 },
 "nbformat": 4,
 "nbformat_minor": 5
}
