{
 "cells": [
  {
   "cell_type": "markdown",
   "id": "42ba3668",
   "metadata": {},
   "source": [
    "# Machine Learning Exercise 3"
   ]
  },
  {
   "cell_type": "markdown",
   "id": "7eded00f",
   "metadata": {},
   "source": [
    "### Step 1\n",
    "Import The Libraries Required To Perform The Machine/Deep Learning Process On The Data. "
   ]
  },
  {
   "cell_type": "code",
   "execution_count": 5,
   "id": "eba8125f",
   "metadata": {},
   "outputs": [],
   "source": [
    "import numpy as np, matplotlib.pyplot as plt\n",
    "from tensorflow.keras import datasets, layers, models"
   ]
  },
  {
   "cell_type": "code",
   "execution_count": 61,
   "id": "13071b7c",
   "metadata": {},
   "outputs": [],
   "source": [
    "# Split The Data Into Training And Testing Sets\n",
    "(trainX, trainY), (testX, testY) = datasets.cifar10.load_data()\n",
    "# Create An Ordered List Of The Classes The Images Can Be In Based On The Dataset \n",
    "imageClasses = ['Airplane', 'Automobile', 'Bird', 'Cat', 'Deer', 'Dog', 'Frog', 'Horse', 'Ship', 'Truck']\n",
    "# Convert The trainY List From A 2-D Array To A 1-D Array\n",
    "trainY = trainY.reshape(-1,)"
   ]
  },
  {
   "cell_type": "markdown",
   "id": "4f2038a9",
   "metadata": {},
   "source": [
    "### Step 2\n",
    "Perform Data Exploration By Plotting the Images In The Notebook To Gain An Understanding Of The Data And Classify The Images Based On The Image Classes "
   ]
  },
  {
   "cell_type": "code",
   "execution_count": 62,
   "id": "919ad592",
   "metadata": {},
   "outputs": [
    {
     "data": {
      "image/png": "[encoded data removed]",
      "text/plain": [
       "<Figure size 1224x144 with 1 Axes>"
      ]
     },
     "metadata": {
      "needs_background": "light"
     },
     "output_type": "display_data"
    },
    {
     "data": {
      "image/png": "[encoded data removed]",
      "text/plain": [
       "<Figure size 1224x144 with 1 Axes>"
      ]
     },
     "metadata": {
      "needs_background": "light"
     },
     "output_type": "display_data"
    },
    {
     "data": {
      "image/png": "[encoded data removed]",
      "text/plain": [
       "<Figure size 1224x144 with 1 Axes>"
      ]
     },
     "metadata": {
      "needs_background": "light"
     },
     "output_type": "display_data"
    },
    {
     "data": {
      "image/png": "[encoded data removed]",
      "text/plain": [
       "<Figure size 1224x144 with 1 Axes>"
      ]
     },
     "metadata": {
      "needs_background": "light"
     },
     "output_type": "display_data"
    }
   ],
   "source": [
    "# Created A Function That Plots The Image And Adds A Label Of The Image Class\n",
    "def pltImage(X, Y, Index):\n",
    "    plt.figure(figsize = (17, 2))\n",
    "    plt.imshow(X[Index])\n",
    "    plt.rc('font', size = 13)\n",
    "    plt.axis('off')\n",
    "    plt.text(0, 37.5, imageClasses[Y[Index]])\n",
    "    plt.show()\n",
    "    \n",
    "pltImage(trainX, trainY, 2)\n",
    "pltImage(trainX, trainY, 5)\n",
    "pltImage(trainX, trainY, 18)\n",
    "pltImage(trainX, trainY, 29)"
   ]
  },
  {
   "cell_type": "markdown",
   "id": "e50d548d",
   "metadata": {},
   "source": [
    "### Step 3\n",
    "Normalize The Training And Testing Data By Dividing Both By 255 Since RGB Values Range From 0 To 255"
   ]
  },
  {
   "cell_type": "code",
   "execution_count": 8,
   "id": "026be446",
   "metadata": {},
   "outputs": [],
   "source": [
    "trainX = trainX / 255\n",
    "testX = testX / 255"
   ]
  },
  {
   "cell_type": "markdown",
   "id": "26564e65",
   "metadata": {},
   "source": [
    "### Step 4\n",
    "Learn From The Image Data Using Convolution Neural Network On The Testing Set And Report The Accuracy Of The Predictions."
   ]
  },
  {
   "cell_type": "code",
   "execution_count": 9,
   "id": "cfeb16d1",
   "metadata": {},
   "outputs": [
    {
     "name": "stderr",
     "output_type": "stream",
     "text": [
      "2022-04-15 19:24:23.883881: W tensorflow/stream_executor/platform/default/dso_loader.cc:64] Could not load dynamic library 'libcuda.so.1'; dlerror: libcuda.so.1: cannot open shared object file: No such file or directory\n",
      "2022-04-15 19:24:23.884225: W tensorflow/stream_executor/cuda/cuda_driver.cc:269] failed call to cuInit: UNKNOWN ERROR (303)\n",
      "2022-04-15 19:24:23.884465: I tensorflow/stream_executor/cuda/cuda_diagnostics.cc:156] kernel driver does not appear to be running on this host (DESKTOP-N877P7O): /proc/driver/nvidia/version does not exist\n",
      "2022-04-15 19:24:23.918411: I tensorflow/core/platform/cpu_feature_guard.cc:151] This TensorFlow binary is optimized with oneAPI Deep Neural Network Library (oneDNN) to use the following CPU instructions in performance-critical operations:  AVX2 FMA\n",
      "To enable them in other operations, rebuild TensorFlow with the appropriate compiler flags.\n",
      "2022-04-15 19:24:25.320772: W tensorflow/core/framework/cpu_allocator_impl.cc:82] Allocation of 614400000 exceeds 10% of free system memory.\n"
     ]
    },
    {
     "name": "stdout",
     "output_type": "stream",
     "text": [
      "Epoch 1/20\n",
      "1563/1563 [==============================] - 28s 18ms/step - loss: 2.0194 - accuracy: 0.2660\n",
      "Epoch 2/20\n",
      "1563/1563 [==============================] - 29s 19ms/step - loss: 1.6640 - accuracy: 0.4055\n",
      "Epoch 3/20\n",
      "1563/1563 [==============================] - 30s 19ms/step - loss: 1.4934 - accuracy: 0.4638\n",
      "Epoch 4/20\n",
      "1563/1563 [==============================] - 30s 19ms/step - loss: 1.3877 - accuracy: 0.5063\n",
      "Epoch 5/20\n",
      "1563/1563 [==============================] - 29s 19ms/step - loss: 1.3015 - accuracy: 0.5386\n",
      "Epoch 6/20\n",
      "1563/1563 [==============================] - 30s 19ms/step - loss: 1.2352 - accuracy: 0.5658\n",
      "Epoch 7/20\n",
      "1563/1563 [==============================] - 30s 19ms/step - loss: 1.1799 - accuracy: 0.5865\n",
      "Epoch 8/20\n",
      "1563/1563 [==============================] - 30s 19ms/step - loss: 1.1321 - accuracy: 0.6022\n",
      "Epoch 9/20\n",
      "1563/1563 [==============================] - 32s 20ms/step - loss: 1.0913 - accuracy: 0.6197\n",
      "Epoch 10/20\n",
      "1563/1563 [==============================] - 29s 19ms/step - loss: 1.0539 - accuracy: 0.6350\n",
      "Epoch 11/20\n",
      "1563/1563 [==============================] - 30s 19ms/step - loss: 1.0219 - accuracy: 0.6449\n",
      "Epoch 12/20\n",
      "1563/1563 [==============================] - 29s 19ms/step - loss: 0.9915 - accuracy: 0.6548\n",
      "Epoch 13/20\n",
      "1563/1563 [==============================] - 29s 19ms/step - loss: 0.9633 - accuracy: 0.6642\n",
      "Epoch 14/20\n",
      "1563/1563 [==============================] - 29s 19ms/step - loss: 0.9368 - accuracy: 0.6754\n",
      "Epoch 15/20\n",
      "1563/1563 [==============================] - 29s 19ms/step - loss: 0.9134 - accuracy: 0.6840\n",
      "Epoch 16/20\n",
      "1563/1563 [==============================] - 30s 19ms/step - loss: 0.8919 - accuracy: 0.6907\n",
      "Epoch 17/20\n",
      "1563/1563 [==============================] - 29s 19ms/step - loss: 0.8687 - accuracy: 0.7001\n",
      "Epoch 18/20\n",
      "1563/1563 [==============================] - 29s 19ms/step - loss: 0.8479 - accuracy: 0.7058\n",
      "Epoch 19/20\n",
      "1563/1563 [==============================] - 29s 19ms/step - loss: 0.8309 - accuracy: 0.7095\n",
      "Epoch 20/20\n",
      "1563/1563 [==============================] - 30s 19ms/step - loss: 0.8113 - accuracy: 0.7198\n"
     ]
    },
    {
     "data": {
      "text/plain": [
       "<keras.callbacks.History at 0x7feb6df88340>"
      ]
     },
     "execution_count": 9,
     "metadata": {},
     "output_type": "execute_result"
    }
   ],
   "source": [
    "model = models.Sequential([\n",
    "    \n",
    "    # Convolution Layer Detects Image Features\n",
    "    layers.Conv2D(filters = 32, kernel_size = (3, 3), activation = 'relu', input_shape = (32, 32, 3)),\n",
    "    \n",
    "    # Pooling Is Used To Reduce The Dimension\n",
    "    layers.MaxPooling2D((2, 2)),\n",
    "    \n",
    "    # Convolution Layer Detects Image Features\n",
    "    layers.Conv2D(filters = 32, kernel_size = (3, 3), activation = 'relu', input_shape = (32, 32, 3)),\n",
    "    \n",
    "    # Pooling Is Used To Reduce The Dimension\n",
    "    layers.MaxPooling2D((2, 2)),\n",
    "    \n",
    "    # Dense\n",
    "    layers.Flatten(),\n",
    "    layers.Dense(64, activation = 'relu'),\n",
    "    layers.Dense(10, activation = 'softmax')\n",
    "])\n",
    "\n",
    "model.compile(loss='sparse_categorical_crossentropy', optimizer='sgd', metrics=['accuracy'])\n",
    "\n",
    "model.fit(trainX, trainY, epochs = 20)"
   ]
  },
  {
   "cell_type": "markdown",
   "id": "6d31b7d4",
   "metadata": {},
   "source": [
    "### Step 5\n",
    "Test The Model By Predicting The Object In The Images In The Testing Set And Convert The Prediction Results Into An Array. "
   ]
  },
  {
   "cell_type": "code",
   "execution_count": 56,
   "id": "a542f5f3",
   "metadata": {},
   "outputs": [
    {
     "name": "stdout",
     "output_type": "stream",
     "text": [
      "313/313 [==============================] - 2s 7ms/step - loss: 0.9896 - accuracy: 0.6612\n",
      "\n",
      "This Model Has An Accuracy Score Of 66%\n"
     ]
    }
   ],
   "source": [
    "# Get The Probability Distribution For Each Image Being In The Class Using Predict\n",
    "preditionResults = model.predict(testX)\n",
    "# Create A List Of The Indexes With The Highest Probability The Image Is In That Class For Each Image\n",
    "yClasses = [np.argmax(x) for x in preditionResults]\n",
    "# Convert The testY List From A 2-D Array To A 1-D Array\n",
    "testY = testY.reshape(-1,)\n",
    "# Find The Accuracy Of Our Model\n",
    "accuracyScore = model.evaluate(testX, testY)\n",
    "print(\"\\nThis Model Has An Accuracy Score Of \" + str(round(accuracyScore[1]*100)) + \"%\")"
   ]
  },
  {
   "cell_type": "markdown",
   "id": "155720fe",
   "metadata": {},
   "source": [
    "### Step 6\n",
    "Test Your Model On The Images To See If It Is Able To Correctly Predict The Class Each Image Is From. (Test Your Model On At Least 10 Images)"
   ]
  },
  {
   "cell_type": "code",
   "execution_count": 58,
   "id": "ddcd704f",
   "metadata": {},
   "outputs": [
    {
     "name": "stdout",
     "output_type": "stream",
     "text": [
      "--------------------Actual Image Is--------------------\n"
     ]
    },
    {
     "data": {
      "image/png": "[encoded data removed]",
      "text/plain": [
       "<Figure size 1224x144 with 1 Axes>"
      ]
     },
     "metadata": {
      "needs_background": "light"
     },
     "output_type": "display_data"
    },
    {
     "name": "stdout",
     "output_type": "stream",
     "text": [
      "------------Predicted Image By The Model Is------------\n",
      "Airplane\n",
      "-------------------------------------------------------\n",
      "\n",
      "--------------------Actual Image Is--------------------\n"
     ]
    },
    {
     "data": {
      "image/png": "[encoded data removed]",
      "text/plain": [
       "<Figure size 1224x144 with 1 Axes>"
      ]
     },
     "metadata": {
      "needs_background": "light"
     },
     "output_type": "display_data"
    },
    {
     "name": "stdout",
     "output_type": "stream",
     "text": [
      "------------Predicted Image By The Model Is------------\n",
      "Dog\n",
      "-------------------------------------------------------\n",
      "\n",
      "--------------------Actual Image Is--------------------\n"
     ]
    },
    {
     "data": {
      "image/png": "[encoded data removed]",
      "text/plain": [
       "<Figure size 1224x144 with 1 Axes>"
      ]
     },
     "metadata": {
      "needs_background": "light"
     },
     "output_type": "display_data"
    },
    {
     "name": "stdout",
     "output_type": "stream",
     "text": [
      "------------Predicted Image By The Model Is------------\n",
      "Frog\n",
      "-------------------------------------------------------\n",
      "\n",
      "--------------------Actual Image Is--------------------\n"
     ]
    },
    {
     "data": {
      "image/png": "[encoded data removed]",
      "text/plain": [
       "<Figure size 1224x144 with 1 Axes>"
      ]
     },
     "metadata": {
      "needs_background": "light"
     },
     "output_type": "display_data"
    },
    {
     "name": "stdout",
     "output_type": "stream",
     "text": [
      "------------Predicted Image By The Model Is------------\n",
      "Cat\n",
      "-------------------------------------------------------\n",
      "\n",
      "--------------------Actual Image Is--------------------\n"
     ]
    },
    {
     "data": {
      "image/png": "[encoded data removed]",
      "text/plain": [
       "<Figure size 1224x144 with 1 Axes>"
      ]
     },
     "metadata": {
      "needs_background": "light"
     },
     "output_type": "display_data"
    },
    {
     "name": "stdout",
     "output_type": "stream",
     "text": [
      "------------Predicted Image By The Model Is------------\n",
      "Deer\n",
      "-------------------------------------------------------\n",
      "\n",
      "--------------------Actual Image Is--------------------\n"
     ]
    },
    {
     "data": {
      "image/png": "[encoded data removed]",
      "text/plain": [
       "<Figure size 1224x144 with 1 Axes>"
      ]
     },
     "metadata": {
      "needs_background": "light"
     },
     "output_type": "display_data"
    },
    {
     "name": "stdout",
     "output_type": "stream",
     "text": [
      "------------Predicted Image By The Model Is------------\n",
      "Deer\n",
      "-------------------------------------------------------\n",
      "\n",
      "--------------------Actual Image Is--------------------\n"
     ]
    },
    {
     "data": {
      "image/png": "[encoded data removed]",
      "text/plain": [
       "<Figure size 1224x144 with 1 Axes>"
      ]
     },
     "metadata": {
      "needs_background": "light"
     },
     "output_type": "display_data"
    },
    {
     "name": "stdout",
     "output_type": "stream",
     "text": [
      "------------Predicted Image By The Model Is------------\n",
      "Cat\n",
      "-------------------------------------------------------\n",
      "\n",
      "--------------------Actual Image Is--------------------\n"
     ]
    },
    {
     "data": {
      "image/png": "[encoded data removed]",
      "text/plain": [
       "<Figure size 1224x144 with 1 Axes>"
      ]
     },
     "metadata": {
      "needs_background": "light"
     },
     "output_type": "display_data"
    },
    {
     "name": "stdout",
     "output_type": "stream",
     "text": [
      "------------Predicted Image By The Model Is------------\n",
      "Automobile\n",
      "-------------------------------------------------------\n",
      "\n",
      "--------------------Actual Image Is--------------------\n"
     ]
    },
    {
     "data": {
      "image/png": "[encoded data removed]",
      "text/plain": [
       "<Figure size 1224x144 with 1 Axes>"
      ]
     },
     "metadata": {
      "needs_background": "light"
     },
     "output_type": "display_data"
    },
    {
     "name": "stdout",
     "output_type": "stream",
     "text": [
      "------------Predicted Image By The Model Is------------\n",
      "Dog\n",
      "-------------------------------------------------------\n",
      "\n",
      "--------------------Actual Image Is--------------------\n"
     ]
    },
    {
     "data": {
      "image/png": "[encoded data removed]",
      "text/plain": [
       "<Figure size 1224x144 with 1 Axes>"
      ]
     },
     "metadata": {
      "needs_background": "light"
     },
     "output_type": "display_data"
    },
    {
     "name": "stdout",
     "output_type": "stream",
     "text": [
      "------------Predicted Image By The Model Is------------\n",
      "Truck\n",
      "-------------------------------------------------------\n",
      "\n"
     ]
    }
   ],
   "source": [
    "# Created A Function That Calls Another Function To Plot The Image And Prints Out The Image Class Predicted By The Model\n",
    "def actualVsPredicted(X, Y, Index):\n",
    "    print(\"--------------------Actual Image Is--------------------\")\n",
    "    pltImage(X, Y, Index)\n",
    "    print(\"------------Predicted Image By The Model Is------------\")\n",
    "    print(imageClasses[yClasses[Index]])\n",
    "    print(\"-------------------------------------------------------\\n\")\n",
    "\n",
    "actualVsPredicted(testX, testY, 10)\n",
    "actualVsPredicted(testX, testY, 200)\n",
    "actualVsPredicted(testX, testY, 19)\n",
    "actualVsPredicted(testX, testY, 0)\n",
    "actualVsPredicted(testX, testY, 130)\n",
    "actualVsPredicted(testX, testY, 900)\n",
    "actualVsPredicted(testX, testY, 760)\n",
    "actualVsPredicted(testX, testY, 358)\n",
    "actualVsPredicted(testX, testY, 850)\n",
    "actualVsPredicted(testX, testY, 175)"
   ]
  },
  {
   "cell_type": "markdown",
   "id": "a86df591",
   "metadata": {},
   "source": [
    "### Evaluation\n",
    "Evaluate Your Model About How Accuracte And Useful It Is For Predicting The Object In The Image As Well As Documenting The Method Employed To Construct This Model"
   ]
  },
  {
   "cell_type": "markdown",
   "id": "262fda0e",
   "metadata": {},
   "source": [
    "Using Deep Learning, I Was Able To Construct A Model That Can Predict The Object In The Image With The Help Of The Tensorflow Library. The Model Produced Is Accurate But Not To A Great Extent As It Had An Accuracy Sore Of 66%. Similarly, When Testing The Model, It Was Able To Correctly Predict 7/10 Images Which Relates Closely To The Accuracy Score And Although This Is More Than 50%, It Isn't Highly Accurate. However, With Some Fine Tuning To The Model And Increasing The Number Of Iterations On The Training Data, The Accuracy Of This Model Can Be Increased."
   ]
  }
 ],
 "metadata": {
  "kernelspec": {
   "display_name": "Python 3 (ipykernel)",
   "language": "python",
   "name": "python3"
  },
  "language_info": {
   "codemirror_mode": {
    "name": "ipython",
    "version": 3
   },
   "file_extension": ".py",
   "mimetype": "text/x-python",
   "name": "python",
   "nbconvert_exporter": "python",
   "pygments_lexer": "ipython3",
   "version": "3.8.10"
  }
 },
 "nbformat": 4,
 "nbformat_minor": 5
}
